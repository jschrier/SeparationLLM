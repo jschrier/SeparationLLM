{
 "cells": [
  {
   "cell_type": "code",
   "execution_count": 225,
   "metadata": {},
   "outputs": [],
   "source": [
    "# pip install pyautogui\n",
    "# pip install opencv-python"
   ]
  },
  {
   "cell_type": "code",
   "execution_count": 226,
   "metadata": {},
   "outputs": [],
   "source": [
    "import pyautogui, pandas as pd, time, sys, pyperclip"
   ]
  },
  {
   "cell_type": "code",
   "execution_count": 179,
   "metadata": {},
   "outputs": [
    {
     "name": "stdout",
     "output_type": "stream",
     "text": [
      "Point(x=568, y=551)\n"
     ]
    }
   ],
   "source": [
    "print(pyautogui.position())"
   ]
  },
  {
   "cell_type": "code",
   "execution_count": 232,
   "metadata": {},
   "outputs": [],
   "source": [
    "text_to_write = \"Output a monoamide SMILES sequence\\n\" #Note that newline characters will submit the prompt"
   ]
  },
  {
   "cell_type": "code",
   "execution_count": 233,
   "metadata": {},
   "outputs": [],
   "source": [
    "def FindCopy():\n",
    "    match = pyautogui.locateCenterOnScreen(\"./OpenAI_Imgs/copy.png\") #region = left, top, width, height\n",
    "    pos1, pos2 = match[0]/2, match[1]/2 # Mac's screen appears to double the pixel count...reduce output by half\n",
    "    return (pos1, pos2)"
   ]
  },
  {
   "cell_type": "code",
   "execution_count": 234,
   "metadata": {},
   "outputs": [],
   "source": [
    "def SubmitText(data):\n",
    "    pyautogui.moveTo(560, 866, duration=2, tween=pyautogui.easeInOutQuad) #Note that pyautogui doesn't handle multiple monitors well currently and will mainly do operations on primary monitor (for Mac, its own display)\n",
    "    pyautogui.doubleClick()\n",
    "    pyautogui.write(text_to_write, interval=0.1)\n",
    "    time.sleep(5)\n",
    "    copy_loc = FindCopy()\n",
    "    pyautogui.click(copy_loc[0], copy_loc[1])\n",
    "    time.sleep(0.5)\n",
    "    return pyperclip.paste()"
   ]
  },
  {
   "cell_type": "code",
   "execution_count": 235,
   "metadata": {},
   "outputs": [],
   "source": [
    "result = SubmitText(text_to_write)"
   ]
  },
  {
   "cell_type": "code",
   "execution_count": 236,
   "metadata": {},
   "outputs": [
    {
     "data": {
      "text/plain": [
       "'A monoamide is an organic compound containing one amide group. The general structure of an amide is R-C(=O)-NR2, where R can be a hydrogen or an organic group.\\n\\nHere is a simple example of a monoamide, acetamide (ethanamide), with the SMILES sequence:\\n```\\nCC(=O)N\\n```\\n\\nThis SMILES sequence represents acetamide, where \"CC(=O)N\" denotes a two-carbon chain (ethane) with a carbonyl group (C=O) bonded to an amine group (N).'"
      ]
     },
     "execution_count": 236,
     "metadata": {},
     "output_type": "execute_result"
    }
   ],
   "source": [
    "result"
   ]
  },
  {
   "cell_type": "code",
   "execution_count": null,
   "metadata": {},
   "outputs": [],
   "source": []
  },
  {
   "cell_type": "code",
   "execution_count": null,
   "metadata": {},
   "outputs": [],
   "source": []
  }
 ],
 "metadata": {
  "kernelspec": {
   "display_name": "Python 3",
   "language": "python",
   "name": "python3"
  },
  "language_info": {
   "codemirror_mode": {
    "name": "ipython",
    "version": 3
   },
   "file_extension": ".py",
   "mimetype": "text/x-python",
   "name": "python",
   "nbconvert_exporter": "python",
   "pygments_lexer": "ipython3",
   "version": "3.10.13"
  }
 },
 "nbformat": 4,
 "nbformat_minor": 2
}
